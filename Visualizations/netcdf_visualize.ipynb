{
 "cells": [
  {
   "cell_type": "markdown",
   "metadata": {},
   "source": [
    "# NB per la visualizzazione dell'output di WRF\n",
    "Devo ancora vedere cosa bisogna mostrare come input e controllare bene quali sono gli output da visualizzare"
   ]
  },
  {
   "cell_type": "code",
   "execution_count": 1,
   "metadata": {},
   "outputs": [],
   "source": [
    "from netCDF4 import Dataset\n",
    "import numpy as np\n",
    "import matplotlib.pyplot as plt\n",
    "from mpl_toolkits.basemap import Basemap \n",
    "from pathlib import Path\n",
    "import PIL"
   ]
  },
  {
   "cell_type": "code",
   "execution_count": 2,
   "metadata": {},
   "outputs": [],
   "source": [
    "# Only edit this cell\n",
    "\n",
    "filepath = r\"C:\\Users\\giova\\Downloads\\wrfout_d01_0001-01-01_00_00_00.nc\"\n",
    "savedirpath = r'C:\\Users\\giova\\Desktop\\TESTCMAP'\n",
    "variables = [\n",
    "    'FGRNHFX',\n",
    "    'T2'\n",
    "]"
   ]
  },
  {
   "cell_type": "code",
   "execution_count": 3,
   "metadata": {
    "tags": [
     "hide-input"
    ]
   },
   "outputs": [],
   "source": [
    "def get_array_from_fire_subgrid(var_name, root):\n",
    "    sr_x=int(len(root.dimensions['west_east_subgrid'])/(len(root.dimensions['west_east'])+1))\n",
    "    sr_y=int(len(root.dimensions['south_north_subgrid'])/(len(root.dimensions['south_north'])+1))\n",
    "    data=root.variables[var_name]\n",
    "    return np.array(data[:,:-sr_y,:-sr_x].data), sr_x, sr_y\n",
    "\n",
    "\n",
    "def draw_cmap_at_time(data, lon, lat, time, title='CMAP'):\n",
    "    path = savedirpath + '\\\\'+ title \n",
    "    Path(path).mkdir(parents=True, exist_ok=True)\n",
    "    plt.figure(figsize=(10,10)) #figure size \n",
    "    x, y = np.meshgrid(lon,lat)\n",
    "    c_scheme = plt.pcolor(x,y,np.squeeze(data[time,:,:]),cmap = 'jet', shading='auto') \n",
    "    cbar = plt.colorbar(c_scheme) # map information\n",
    "\n",
    "    plt.title(title + ' ' + str(time))    \n",
    "    plt.clim(data.min(),data.max())\n",
    "    \n",
    "    savepath = savedirpath + '\\\\'+ title + '\\\\' + str(time)+'.jpg'\n",
    "    plt.savefig(savepath)\n",
    "    plt.clf()\n",
    "    plt.close()\n",
    "    return savepath\n",
    "\n",
    "\n",
    "def make_gif(data, lon, lat, title):\n",
    "    print(f'Making GIF for {title}')\n",
    "    image_frames = [] \n",
    "    dh = display('Frame 0',display_id=True)\n",
    "    for i in range(data.shape[0]):\n",
    "        dh.update(f'Frame {i+1}')\n",
    "        path = draw_cmap_at_time(data, lon, lat, i, title)\n",
    "        new_frame = PIL.Image.open(path) \n",
    "        image_frames.append(new_frame)\n",
    "\n",
    "    image_frames[0].save(savedirpath + '\\\\'+ title + '_timelapse.gif',format='GIF',\n",
    "                        append_images = image_frames[1: ],\n",
    "                        save_all = True, duration = 100,\n",
    "                        loop = 0)\n",
    "    print('GIF saved at ' + savedirpath + '\\\\'+ title + '_timelapse.gif')\n",
    "    "
   ]
  },
  {
   "cell_type": "code",
   "execution_count": 4,
   "metadata": {},
   "outputs": [
    {
     "name": "stdout",
     "output_type": "stream",
     "text": [
      "Making GIF for FGRNHFX\n"
     ]
    },
    {
     "data": {
      "text/plain": [
       "'Frame 61'"
      ]
     },
     "metadata": {},
     "output_type": "display_data"
    },
    {
     "name": "stdout",
     "output_type": "stream",
     "text": [
      "GIF saved at C:\\Users\\giova\\Desktop\\TESTCMAP\\FGRNHFX_timelapse.gif\n",
      "Making GIF for T2\n"
     ]
    },
    {
     "data": {
      "text/plain": [
       "'Frame 61'"
      ]
     },
     "metadata": {},
     "output_type": "display_data"
    },
    {
     "name": "stdout",
     "output_type": "stream",
     "text": [
      "GIF saved at C:\\Users\\giova\\Desktop\\TESTCMAP\\T2_timelapse.gif\n",
      "ALL DONE!\n"
     ]
    }
   ],
   "source": [
    "root = Dataset(filepath, \"r\", format=\"NETCDF4\")\n",
    "\n",
    "for var in variables:\n",
    "    arr = np.array(root.variables[var][:].data)\n",
    "    lats = root.variables['XLAT'][0, :, 0]\n",
    "    longs = root.variables['XLONG'][0, 0, :]    \n",
    "    if 'south_north_subgrid' in root.variables[var].dimensions:\n",
    "        arr, sr_x, sr_y = get_array_from_fire_subgrid(var, root)\n",
    "        longs = np.linspace(longs.min(), longs.max(), len(root.dimensions['west_east_subgrid'])-sr_x), \n",
    "        lats = np.linspace(lats.min(), lats.max(), len(root.dimensions['south_north_subgrid'])-sr_y)\n",
    "    \n",
    "    make_gif(arr, longs, lats, var)\n",
    "    \n",
    "print('ALL DONE!')"
   ]
  }
 ],
 "metadata": {
  "celltoolbar": "Tags",
  "hide_input": false,
  "kernelspec": {
   "display_name": "Python 3",
   "language": "python",
   "name": "python3"
  },
  "language_info": {
   "codemirror_mode": {
    "name": "ipython",
    "version": 3
   },
   "file_extension": ".py",
   "mimetype": "text/x-python",
   "name": "python",
   "nbconvert_exporter": "python",
   "pygments_lexer": "ipython3",
   "version": "3.7.2"
  },
  "latex_envs": {
   "LaTeX_envs_menu_present": true,
   "autoclose": false,
   "autocomplete": true,
   "bibliofile": "biblio.bib",
   "cite_by": "apalike",
   "current_citInitial": 1,
   "eqLabelWithNumbers": true,
   "eqNumInitial": 1,
   "hotkeys": {
    "equation": "Ctrl-E",
    "itemize": "Ctrl-I"
   },
   "labels_anchors": false,
   "latex_user_defs": false,
   "report_style_numbering": false,
   "user_envs_cfg": false
  },
  "toc": {
   "base_numbering": 1,
   "nav_menu": {},
   "number_sections": true,
   "sideBar": true,
   "skip_h1_title": false,
   "title_cell": "Table of Contents",
   "title_sidebar": "Contents",
   "toc_cell": false,
   "toc_position": {},
   "toc_section_display": true,
   "toc_window_display": false
  },
  "varInspector": {
   "cols": {
    "lenName": 16,
    "lenType": 16,
    "lenVar": 40
   },
   "kernels_config": {
    "python": {
     "delete_cmd_postfix": "",
     "delete_cmd_prefix": "del ",
     "library": "var_list.py",
     "varRefreshCmd": "print(var_dic_list())"
    },
    "r": {
     "delete_cmd_postfix": ") ",
     "delete_cmd_prefix": "rm(",
     "library": "var_list.r",
     "varRefreshCmd": "cat(var_dic_list()) "
    }
   },
   "types_to_exclude": [
    "module",
    "function",
    "builtin_function_or_method",
    "instance",
    "_Feature"
   ],
   "window_display": false
  }
 },
 "nbformat": 4,
 "nbformat_minor": 4
}
