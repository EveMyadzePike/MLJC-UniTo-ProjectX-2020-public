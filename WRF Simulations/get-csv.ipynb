{
 "cells": [
  {
   "cell_type": "code",
   "execution_count": 1,
   "metadata": {
    "ExecuteTime": {
     "end_time": "2020-11-20T00:06:00.541858Z",
     "start_time": "2020-11-20T00:06:00.534981Z"
    }
   },
   "outputs": [],
   "source": [
    "from netCDF4 import Dataset\n",
    "import numpy as np\n",
    "from pathlib import Path\n",
    "import os"
   ]
  },
  {
   "cell_type": "code",
   "execution_count": 2,
   "metadata": {
    "ExecuteTime": {
     "end_time": "2020-11-20T00:07:41.274430Z",
     "start_time": "2020-11-20T00:07:41.272593Z"
    }
   },
   "outputs": [],
   "source": [
    "dirpath = r\"/home/mljc/wrf/out/idea-hill/\"\n",
    "\n",
    "savefilepath = \"/home/mljc/wrf/out/ideal-hill/hill.pkl\"\n"
   ]
  },
  {
   "cell_type": "code",
   "execution_count": 3,
   "metadata": {
    "ExecuteTime": {
     "end_time": "2020-11-20T00:07:55.851180Z",
     "start_time": "2020-11-20T00:07:55.847724Z"
    }
   },
   "outputs": [],
   "source": [
    "def get_array_from_fire_subgrid(var_name, root):\n",
    "    sr_x=int(len(root.dimensions['west_east_subgrid'])/(len(root.dimensions['west_east'])+1))\n",
    "    sr_y=int(len(root.dimensions['south_north_subgrid'])/(len(root.dimensions['south_north'])+1))\n",
    "    data=root.variables[var_name]\n",
    "    return np.array(data[:,:-sr_y,:-sr_x].data), sr_x, sr_y\n",
    "\n",
    "\n",
    "def process_data(root, var, expr=None):\n",
    "    arr = np.array(root.variables[var][:].data)    \n",
    "    lats = root.variables['XLAT'][0, :, 0]\n",
    "    longs = root.variables['XLONG'][0, 0, :]    \n",
    "    if 'south_north_subgrid' in root.variables[var].dimensions:\n",
    "        arr, sr_x, sr_y = get_array_from_fire_subgrid(var, root)\n",
    "        longs = np.linspace(longs.min(), longs.max(), len(root.dimensions['west_east_subgrid'])-sr_x), \n",
    "        lats = np.linspace(lats.min(), lats.max(), len(root.dimensions['south_north_subgrid'])-sr_y)\n",
    "\n",
    "    return arr, longs, lats"
   ]
  },
  {
   "cell_type": "code",
   "execution_count": null,
   "metadata": {},
   "outputs": [],
   "source": [
    "with open(savefilepath, 'wb') as file:\n",
    "\n",
    "    data = []\n",
    "    for var in variables:\n",
    "        i = 0\n",
    "        save = True\n",
    "        for filename in os.listdir(dirpath):\n",
    "            if filename[:6] == \"wrfout\": \n",
    "                print(f\"Processing {filename}: {var}\")\n",
    "                root = Dataset(os.path.join(dirpath, filename), \"r\", format=\"NETCDF4\")\n",
    "                try:\n",
    "                    arr_temp, lon, lat = process_data(root, var)\n",
    "                except Exception as e:\n",
    "                    save = False\n",
    "                    print(f\"Could not save variable {var}\")\n",
    "                if i == 0 : \n",
    "                    arr_tot = arr_temp\n",
    "                    i+=1\n",
    "                else: \n",
    "                    np.append(arr_tot, arr_temp)\n",
    "               \n",
    "        if save:\n",
    "            a = {\n",
    "                \"data\" : arr_tot,\n",
    "                \"description\": root.variables[var].description,\n",
    "                \"coordinates\": root.variables[var].coordinates,\n",
    "            }\n",
    "            data.append(a)\n",
    "\n",
    "    pickle.dump(data, file, protocol=pickle.HIGHEST_PROTOCOL)"
   ]
  }
 ],
 "metadata": {
  "kernelspec": {
   "display_name": "Python 3",
   "language": "python",
   "name": "python3"
  },
  "language_info": {
   "codemirror_mode": {
    "name": "ipython",
    "version": 3
   },
   "file_extension": ".py",
   "mimetype": "text/x-python",
   "name": "python",
   "nbconvert_exporter": "python",
   "pygments_lexer": "ipython3",
   "version": "3.8.5"
  },
  "toc": {
   "base_numbering": 1,
   "nav_menu": {},
   "number_sections": true,
   "sideBar": true,
   "skip_h1_title": false,
   "title_cell": "Table of Contents",
   "title_sidebar": "Contents",
   "toc_cell": false,
   "toc_position": {},
   "toc_section_display": true,
   "toc_window_display": false
  },
  "varInspector": {
   "cols": {
    "lenName": 16,
    "lenType": 16,
    "lenVar": 40
   },
   "kernels_config": {
    "python": {
     "delete_cmd_postfix": "",
     "delete_cmd_prefix": "del ",
     "library": "var_list.py",
     "varRefreshCmd": "print(var_dic_list())"
    },
    "r": {
     "delete_cmd_postfix": ") ",
     "delete_cmd_prefix": "rm(",
     "library": "var_list.r",
     "varRefreshCmd": "cat(var_dic_list()) "
    }
   },
   "types_to_exclude": [
    "module",
    "function",
    "builtin_function_or_method",
    "instance",
    "_Feature"
   ],
   "window_display": false
  }
 },
 "nbformat": 4,
 "nbformat_minor": 4
}
