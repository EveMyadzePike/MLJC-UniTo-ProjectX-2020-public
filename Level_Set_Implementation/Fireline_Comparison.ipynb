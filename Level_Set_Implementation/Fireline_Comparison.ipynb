{
 "cells": [
  {
   "cell_type": "code",
   "execution_count": 1,
   "metadata": {
    "ExecuteTime": {
     "end_time": "2020-11-25T23:30:08.024317Z",
     "start_time": "2020-11-25T23:29:58.043992Z"
    }
   },
   "outputs": [],
   "source": [
    "#!pip3 install opencv-python"
   ]
  },
  {
   "cell_type": "code",
   "execution_count": 30,
   "metadata": {
    "ExecuteTime": {
     "end_time": "2020-11-25T23:30:10.233760Z",
     "start_time": "2020-11-25T23:30:10.069344Z"
    }
   },
   "outputs": [],
   "source": [
    "import numpy as np \n",
    "import cv2 as cv\n",
    "from scipy.spatial.distance import directed_hausdorff\n",
    "from matplotlib import pyplot as plt \n",
    "import glob \n",
    "import seaborn as sns"
   ]
  },
  {
   "cell_type": "code",
   "execution_count": 2,
   "metadata": {
    "ExecuteTime": {
     "end_time": "2020-11-25T23:32:33.546076Z",
     "start_time": "2020-11-25T23:32:33.538344Z"
    }
   },
   "outputs": [],
   "source": [
    "level_set_names  = glob.glob(\"./level_set_final/*.png\")\n",
    "wrf_tensor_names = glob.glob(\"./WRF_tensor/*.png\")"
   ]
  },
  {
   "cell_type": "code",
   "execution_count": 3,
   "metadata": {
    "ExecuteTime": {
     "end_time": "2020-11-25T23:37:13.470587Z",
     "start_time": "2020-11-25T23:37:13.428664Z"
    }
   },
   "outputs": [],
   "source": [
    "level_set_images = []\n",
    "wrf_tensor_images = []\n",
    "\n",
    "for i in range(0,len(level_set_names)):\n",
    "    level_set_images.append(cv.imread(level_set_names[i]))\n",
    "    wrf_tensor_images.append(cv.imread(wrf_tensor_names[i]))"
   ]
  },
  {
   "cell_type": "code",
   "execution_count": 4,
   "metadata": {
    "ExecuteTime": {
     "end_time": "2020-11-25T23:37:24.654736Z",
     "start_time": "2020-11-25T23:37:24.648576Z"
    }
   },
   "outputs": [],
   "source": [
    "def fln_distance_closed(img_pinn,img_wrf, symmetric_hausdorff = False):\n",
    "    \n",
    "    \"\"\"\n",
    "    Comparing firelines with Hausdorff distance\n",
    "      * About hausdorff distance:\n",
    "        https://arxiv.org/abs/0909.4642#:~:text=The%20actual%20position%20of%20an,are%20several%20cases%20to%20consider\n",
    "  \n",
    "    \n",
    "    img_pinn: fireline image extracted from Julia's file\n",
    "    img_wrf: fireline image extracted from WRF tensor's time slice\n",
    "    symmetric_hausdorff = False, because we use the hausdorff distance \n",
    "        between two matrices, which is non-symmetric by default\n",
    "        see implementation details on scipy's docs\n",
    "        \n",
    "        \n",
    "    return: Hausdorff distance between the two contours\n",
    "    \n",
    "     \"\"\"\n",
    "        \n",
    "    # Image 1 - PINN\n",
    "    img_pinn = cv.cvtColor(img_pinn, cv.COLOR_BGR2GRAY)\n",
    "    # reshape in order to exclude axis, images are (600x600) \n",
    "    img_pinn = img_pinn[:550,50:550] \n",
    "        \n",
    "    # Image 2 - WRF out \n",
    "    img_wrf = cv.cvtColor(img_wrf, cv.COLOR_BGR2GRAY)\n",
    "    # reshape in order to exclude axis, images are (600x600) \n",
    "    img_wrf = img_wrf[:550,50:550]\n",
    "    \n",
    "    \n",
    "    if symmetric_hausdorff is False:     \n",
    "        dist = directed_hausdorff(img_pinn ,img_wrf)[0]\n",
    "    else: \n",
    "        dist = max(directed_hausdorff(img_pinn, img_wrf)[0], directed_hausdorff(img_pinn, img_wrf)[0])  \n",
    "    \n",
    "    return dist\n",
    "    "
   ]
  },
  {
   "cell_type": "code",
   "execution_count": 5,
   "metadata": {
    "ExecuteTime": {
     "end_time": "2020-11-25T23:39:11.758993Z",
     "start_time": "2020-11-25T23:39:11.702345Z"
    }
   },
   "outputs": [],
   "source": [
    "distances = []\n",
    "\n",
    "for i in range(0,len(level_set_images)):\n",
    "    distances.append(fln_distance_closed(level_set_images[i],wrf_tensor_images[i]))"
   ]
  },
  {
   "cell_type": "code",
   "execution_count": 7,
   "metadata": {},
   "outputs": [],
   "source": [
    "# Per estrarre le due aree \n",
    "\n",
    "def get_contour_area(img_pinn, img_wrf):\n",
    "         \n",
    "    # Image 1 - PINN - Area Preprocessing \n",
    "    img_pinn = cv.cvtColor(img_pinn, cv.COLOR_BGR2GRAY)\n",
    "    # reshape in order to exclude axis, images are (600x600) \n",
    "    img_pinn = img_pinn[:550,50:550] \n",
    "    # Applying erosion for computational stability\n",
    "    kernel = np.ones((5,5),np.uint8)\n",
    "    img_pinn = cv.erode(img_pinn, kernel, iterations = 1)\n",
    "    \n",
    "    # Image 2 - WRF out - Area Preprocessing\n",
    "    img_wrf = cv.cvtColor(img_wrf, cv.COLOR_BGR2GRAY)\n",
    "    # reshape in order to exclude axis, images are (600x600) \n",
    "    img_wrf = img_wrf[:550,50:550]\n",
    "    kernel = np.ones((5,5),np.uint8)\n",
    "    img_wrf = cv.erode(img_wrf, kernel, iterations = 1)\n",
    "\n",
    "    # Image 1 - PINN - Area extraction\n",
    "    ret1, thresh1 = cv.threshold(img_pinn, 200, 255, 0)\n",
    "    contours1, hierarchy1 = cv.findContours(thresh1, cv.RETR_TREE, cv.CHAIN_APPROX_SIMPLE)\n",
    "    cnt1 = max(contours1, key=lambda coll: len(coll))\n",
    "    area_pinn = cv.contourArea(cnt1)\n",
    "    \n",
    "\n",
    "    # Image 2 - WRF out - Area Extraction\n",
    "    ret2, thresh2 = cv.threshold(img_wrf, 200, 255, 0)\n",
    "    contours2, hierarchy2 = cv.findContours(thresh2, cv.RETR_TREE, cv.CHAIN_APPROX_SIMPLE)\n",
    "    cnt2 = max(contours2, key=lambda coll: len(coll))\n",
    "    area_wrf = cv.contourArea(cnt2)\n",
    "         \n",
    "    return area_pinn, area_wrf\n",
    "\n",
    "# Per estrarre i due perimetri \n",
    "def get_contour_perimeter(img_pinn, img_wrf):\n",
    "    \n",
    "    # Image 1 - PINN - Area Preprocessing \n",
    "    img_pinn = cv.cvtColor(img_pinn, cv.COLOR_BGR2GRAY)\n",
    "    # reshape in order to exclude axis, images are (600x600) \n",
    "    img_pinn = img_pinn[:550,50:550] \n",
    "    # Applying erosion for computational stability\n",
    "    kernel = np.ones((5,5),np.uint8)\n",
    "    img_pinn = cv.erode(img_pinn, kernel, iterations = 1)\n",
    "    \n",
    "    # Image 2 - WRF out - Area Preprocessing\n",
    "    img_wrf = cv.cvtColor(img_wrf, cv.COLOR_BGR2GRAY)\n",
    "    # reshape in order to exclude axis, images are (600x600) \n",
    "    img_wrf = img_wrf[:550,50:550]\n",
    "    kernel = np.ones((5,5),np.uint8)\n",
    "    img_wrf = cv.erode(img_wrf, kernel, iterations = 1)\n",
    "\n",
    "    # Image 1 - PINN - Area extraction\n",
    "    ret1, thresh1 = cv.threshold(img_pinn, 200, 255, 0)\n",
    "    contours1, hierarchy1 = cv.findContours(thresh1, cv.RETR_TREE, cv.CHAIN_APPROX_SIMPLE)\n",
    "    cnt1 = max(contours1, key=lambda coll: len(coll))\n",
    "    perimeter_pinn = cv.arcLength(cnt1,True)\n",
    "\n",
    "    # Image 2 - WRF out - Area Extraction\n",
    "    ret2, thresh2 = cv.threshold(img_wrf, 200, 255, 0)\n",
    "    contours2, hierarchy2 = cv.findContours(thresh2, cv.RETR_TREE, cv.CHAIN_APPROX_SIMPLE)\n",
    "    cnt2 = max(contours2, key=lambda coll: len(coll))\n",
    "    perimeter_wrf = cv.arcLength(cnt2,True) \n",
    "\n",
    "    return perimeter_pinn, perimeter_wrf"
   ]
  },
  {
   "cell_type": "code",
   "execution_count": 8,
   "metadata": {},
   "outputs": [],
   "source": [
    "areas_pinn = []\n",
    "areas_wrf = []\n",
    "\n",
    "for i in range(0,len(level_set_images)):\n",
    "    a_pinn, a_wrf = get_contour_area(level_set_images[i], wrf_tensor_images[i])\n",
    "    \n",
    "    areas_pinn.append(a_pinn)\n",
    "    areas_wrf.append(a_wrf)"
   ]
  },
  {
   "cell_type": "code",
   "execution_count": 9,
   "metadata": {},
   "outputs": [],
   "source": [
    "perimeters_pinn = []\n",
    "perimeters_wrf = []\n",
    "\n",
    "for i in range(0,len(level_set_images)):\n",
    "    p_pinn, p_wrf = get_contour_perimeter(level_set_images[i], wrf_tensor_images[i])\n",
    "    \n",
    "    perimeters_pinn.append(p_pinn)\n",
    "    perimeters_wrf.append(p_wrf)"
   ]
  },
  {
   "cell_type": "code",
   "execution_count": 21,
   "metadata": {},
   "outputs": [],
   "source": [
    "norm_area_distance = []\n",
    "for i in range(0,len(level_set_images)):\n",
    "    area = max(areas_pinn[i], areas_wrf[i])\n",
    "    norm_area_distance.append(distances[i]/area)\n",
    "    \n",
    "norm_perim_distance = []\n",
    "for i in range(0,len(level_set_images)):\n",
    "    perim = max(perimeters_pinn[i], perimeters_wrf[i])\n",
    "    norm_perim_distance.append(distances[i]/perim)\n",
    "    \n",
    "norm_area_distance = np.asarray(norm_area_distance)\n",
    "norm_perim_distance = np.asarray(norm_perim_distance)"
   ]
  },
  {
   "cell_type": "code",
   "execution_count": 29,
   "metadata": {},
   "outputs": [
    {
     "data": {
      "image/png": "[encoded data removed]",
      "text/plain": [
       "<Figure size 432x288 with 1 Axes>"
      ]
     },
     "metadata": {
      "needs_background": "light"
     },
     "output_type": "display_data"
    }
   ],
   "source": [
    "plt.plot(norm_area_distance);"
   ]
  },
  {
   "cell_type": "code",
   "execution_count": 28,
   "metadata": {},
   "outputs": [
    {
     "data": {
      "image/png": "[encoded data removed]",
      "text/plain": [
       "<Figure size 432x288 with 1 Axes>"
      ]
     },
     "metadata": {
      "needs_background": "light"
     },
     "output_type": "display_data"
    }
   ],
   "source": [
    "plt.plot(norm_perim_distance);"
   ]
  },
  {
   "cell_type": "code",
   "execution_count": 15,
   "metadata": {},
   "outputs": [],
   "source": [
    "### USARE SOLAMENTE SE C'E' QUALCHE PROBLEMA CON LE FIRELINE, DEL TIPO CHE SONO GEOMETRICAMENTE APERTE\n",
    "### ho aggiunto erosion per permettere di far risultare attaccati eventuali buchi \n",
    "### Ma cercate di non usarla perchè è decisamente più instabile rispetto a quella sopra\n",
    "### soprattutto perchè erosion porta ad aumentare il numero di punti e la distanza che usiamo \n",
    "### qua cerca di matchare punti di una fireline (quella di pinn) con i punti di un'altra fireline\n",
    "### (quella di wrf) e facendo ciò calcola quanto sono lontane le due curve ad essere l'una l'altra\n",
    "\n",
    "def fln_distance(img_pinn,img_wrf, symmetric_hausdorff = False):\n",
    "    \n",
    "    \"\"\"\n",
    "    Image Preprocessing for extrapolating contours\n",
    "    \n",
    "    img_pinn: fireline image extracted from Julia's file\n",
    "    img_wrf: fireline image extracted from WRF tensor's time slice\n",
    "    symmetric_hausdorff = False, because we use the hausdorff distance \n",
    "        between two matrices, which is non-symmetric by default\n",
    "        see implementation details on scipy's docs\n",
    "        \n",
    "        \n",
    "    return: Hausdorff distance between the two contours\n",
    "    \n",
    "    About hausdorff distance:\n",
    "    https://arxiv.org/abs/0909.4642#:~:text=The%20actual%20position%20of%20an,are%20several%20cases%20to%20consider\n",
    "    \"\"\"\n",
    "        \n",
    "    # Image 1 - PINN\n",
    "    img_pinn = cv.cvtColor(img_pinn, cv.COLOR_BGR2GRAY)\n",
    "    # reshape in order to exclude axis, images are (600x600) \n",
    "    img_pinn = img_pinn[:550,50:550] \n",
    "    kernel = np.ones((10,10),np.uint8)\n",
    "    img_pinn = cv.erode(img_pinn, kernel, iterations = 1)\n",
    "        \n",
    "    # Image 2 - WRF out \n",
    "    img_wrf = cv.cvtColor(img_wrf, cv.COLOR_BGR2GRAY)\n",
    "    # reshape in order to exclude axis, images are (600x600) \n",
    "    img_wrf = img_wrf[:550,50:550]\n",
    "    img_wrf = cv.erode(img_wrf, kernel, iterations = 1)\n",
    "    \n",
    "    ### Extracting fireline area as a mask ###\n",
    "    \n",
    "    # Image 1, thresholds have been fine-tuned \n",
    "    ret1,thresh1 = cv.threshold(img_pinn, 100 ,255, cv.THRESH_BINARY )\n",
    "    kernel1 = cv.getStructuringElement(cv.MORPH_RECT, (1,1))\n",
    "    close1 = cv.morphologyEx(thresh1, cv.MORPH_CLOSE, kernel1, iterations=1)\n",
    "    cnts1 = cv.findContours(close1,2, 1)\n",
    "    cnts1 = cnts1[0] if len(cnts1) == 2 else cnts1[1]\n",
    "    mask1 = cv.fillPoly(close1, cnts1, [200,200,200])\n",
    "    \n",
    "    \n",
    "    # Image 2, thresholds have been fine-tuned \n",
    "    ret2,thresh2 = cv.threshold(img_wrf, 0 ,255, cv.THRESH_BINARY )\n",
    "    kernel2 = cv.getStructuringElement(cv.MORPH_RECT, (1,1))\n",
    "    close2 = cv.morphologyEx(thresh2, cv.MORPH_CLOSE, kernel2, iterations=1)\n",
    "    cnts2 = cv.findContours(close2,2, 1)\n",
    "    cnts2 = cnts2[0] if len(cnts2) == 2 else cnts2[1]\n",
    "    mask2 = cv.fillPoly(close2, cnts2, [200,200,200])\n",
    "    \n",
    "    if symmetric_hausdorff is False:     \n",
    "        dist = directed_hausdorff(mask1 ,mask2)[0]\n",
    "    else: \n",
    "        dist = max(directed_hausdorff(mask1, mask2)[0], directed_hausdorff(mask1, mask2)[0])\n",
    "    \n",
    "    return dist"
   ]
  }
 ],
 "metadata": {
  "kernelspec": {
   "display_name": "Python 3",
   "language": "python",
   "name": "python3"
  },
  "language_info": {
   "codemirror_mode": {
    "name": "ipython",
    "version": 3
   },
   "file_extension": ".py",
   "mimetype": "text/x-python",
   "name": "python",
   "nbconvert_exporter": "python",
   "pygments_lexer": "ipython3",
   "version": "3.7.4"
  },
  "toc": {
   "base_numbering": 1,
   "nav_menu": {},
   "number_sections": true,
   "sideBar": true,
   "skip_h1_title": false,
   "title_cell": "Table of Contents",
   "title_sidebar": "Contents",
   "toc_cell": false,
   "toc_position": {},
   "toc_section_display": true,
   "toc_window_display": false
  },
  "varInspector": {
   "cols": {
    "lenName": 16,
    "lenType": 16,
    "lenVar": 40
   },
   "kernels_config": {
    "python": {
     "delete_cmd_postfix": "",
     "delete_cmd_prefix": "del ",
     "library": "var_list.py",
     "varRefreshCmd": "print(var_dic_list())"
    },
    "r": {
     "delete_cmd_postfix": ") ",
     "delete_cmd_prefix": "rm(",
     "library": "var_list.r",
     "varRefreshCmd": "cat(var_dic_list()) "
    }
   },
   "types_to_exclude": [
    "module",
    "function",
    "builtin_function_or_method",
    "instance",
    "_Feature"
   ],
   "window_display": false
  }
 },
 "nbformat": 4,
 "nbformat_minor": 2
}
