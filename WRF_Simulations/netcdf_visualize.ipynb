{
 "cells": [
  {
   "cell_type": "markdown",
   "metadata": {},
   "source": [
    "# NB per la visualizzazione dell'output di WRF\n",
    "Devo ancora vedere cosa bisogna mostrare come input e controllare bene quali sono gli output da visualizzare"
   ]
  },
  {
   "cell_type": "code",
   "execution_count": 1,
   "metadata": {
    "ExecuteTime": {
     "end_time": "2020-11-19T23:46:03.130575Z",
     "start_time": "2020-11-19T23:46:02.533274Z"
    }
   },
   "outputs": [],
   "source": [
    "from netCDF4 import Dataset\n",
    "import numpy as np\n",
    "import matplotlib.pyplot as plt\n",
    "from mpl_toolkits.basemap import Basemap \n",
    "from pathlib import Path\n",
    "import PIL\n",
    "import os"
   ]
  },
  {
   "cell_type": "code",
   "execution_count": 4,
   "metadata": {
    "ExecuteTime": {
     "end_time": "2020-11-19T23:46:16.249952Z",
     "start_time": "2020-11-19T23:46:16.247687Z"
    }
   },
   "outputs": [],
   "source": [
    "# Only edit this cell\n",
    "\n",
    "dirpath = r\"/home/mljc/wrf/out/ideal-fireflux1\"\n",
    "savedirpath = dirpath + \"/vis\"\n",
    "variables = [\n",
    "#    'F_INT',\n",
    "    'F_LINEINT',\n",
    "    'HGT',\n",
    "    'FWH',\n",
    "    'FZ0',\n",
    "    'FUEL_FRAC_BURNT', # = 1/w?\n",
    "    'FGIP',            # total fuel load?\n",
    "    'FGRNHFX',\n",
    "    'T2',\n",
    "    'U',\n",
    "    'V',\n",
    "    'UF',\n",
    "    'VF'\n",
    "] "
   ]
  },
  {
   "cell_type": "code",
   "execution_count": 5,
   "metadata": {
    "ExecuteTime": {
     "end_time": "2020-11-19T23:46:19.037191Z",
     "start_time": "2020-11-19T23:46:19.001080Z"
    },
    "tags": [
     "hide-input"
    ]
   },
   "outputs": [],
   "source": [
    "def get_array_from_fire_subgrid(var_name, root):\n",
    "    sr_x=int(len(root.dimensions['west_east_subgrid'])/(len(root.dimensions['west_east'])+1))\n",
    "    sr_y=int(len(root.dimensions['south_north_subgrid'])/(len(root.dimensions['south_north'])+1))\n",
    "    data=root.variables[var_name]\n",
    "    return np.array(data[:,:-sr_y,:-sr_x].data), sr_x, sr_y\n",
    "\n",
    "\n",
    "def draw_cmap_at_time(data, lon, lat, time, last_frame, title='CMAP'):\n",
    "    path = os.path.join(savedirpath, title )\n",
    "    Path(path).mkdir(parents=True, exist_ok=True)\n",
    "    plt.figure(figsize=(10,10)) #figure size \n",
    "    x, y = np.meshgrid(lon,lat)\n",
    "    c_scheme = plt.pcolor(x,y,np.squeeze(data[time,:,:]),cmap = 'jet', shading='auto') \n",
    "    cbar = plt.colorbar(c_scheme) # map information\n",
    "\n",
    "    plt.title(title + ' ' + str(time+last_frame))    \n",
    "    plt.clim(data.min(),data.max())\n",
    "    \n",
    "    savepath = os.path.join(savedirpath, title, str(time+last_frame)+'.jpg')\n",
    "    plt.savefig(savepath)\n",
    "    plt.clf()\n",
    "    plt.close()\n",
    "    return savepath\n",
    "\n",
    "\n",
    "def process_data(root, var, expr=None):\n",
    "    if expr is None:\n",
    "        expr = lambda x: x\n",
    "    arr = np.array(root.variables[var][:].data)\n",
    "    lats = root.variables['XLAT'][0, :, 0]\n",
    "    longs = root.variables['XLONG'][0, 0, :]    \n",
    "    if 'south_north_subgrid' in root.variables[var].dimensions:\n",
    "        arr, sr_x, sr_y = get_array_from_fire_subgrid(var, root)\n",
    "        longs = np.linspace(longs.min(), longs.max(), len(root.dimensions['west_east_subgrid'])-sr_x), \n",
    "        lats = np.linspace(lats.min(), lats.max(), len(root.dimensions['south_north_subgrid'])-sr_y)\n",
    "    arr = expr(arr)\n",
    "\n",
    "    return arr, longs, lats\n",
    "\n",
    "def make_gif(dirpath, savedirpath, var, expr=None, title=\"\"):\n",
    "    if title == \"\": \n",
    "        title = var\n",
    "    print(f'Making GIF for {title}')\n",
    "    image_frames = [] \n",
    "    dh = display('Frame 0',display_id=True)\n",
    "    last_frame = 0\n",
    "    for filename in os.listdir(dirpath):\n",
    "        if filename[:6] == \"wrfout\": \n",
    "            print(f\"Processing {filename}\")\n",
    "            root = Dataset(os.path.join(dirpath, filename), \"r\", format=\"NETCDF4\")\n",
    "            data, lon, lat = process_data(root, var, expr)\n",
    "\n",
    "            for i in range(last_frame, last_frame + data.shape[0]):\n",
    "                dh.update(f'Frame {i+1}')\n",
    "                path = draw_cmap_at_time(data, lon, lat, i-last_frame, last_frame, title)\n",
    "                new_frame = PIL.Image.open(path) \n",
    "                image_frames.append(new_frame)\n",
    "            last_frame += data.shape[0]\n",
    "\n",
    "    image_frames[0].save(os.path.join(savedirpath, title + '_timelapse.gif'),format='GIF',\n",
    "                        append_images = image_frames[1: ],\n",
    "                        save_all = True, duration = 100,\n",
    "                        loop = 0)\n",
    "    print('GIF saved at ' + os.path.join(savedirpath, title + '_timelapse.gif'))\n",
    "    "
   ]
  },
  {
   "cell_type": "code",
   "execution_count": 6,
   "metadata": {
    "ExecuteTime": {
     "end_time": "2020-11-19T23:50:12.476994Z",
     "start_time": "2020-11-19T23:46:21.311196Z"
    }
   },
   "outputs": [
    {
     "name": "stdout",
     "output_type": "stream",
     "text": [
      "Making GIF for LFN\n"
     ]
    },
    {
     "data": {
      "text/plain": [
       "'Frame 21'"
      ]
     },
     "metadata": {},
     "output_type": "display_data"
    },
    {
     "name": "stdout",
     "output_type": "stream",
     "text": [
      "Processing wrfout_d01_0001-01-01_00:00:00\n",
      "GIF saved at /home/mljc/wrf/out/ideal-fireflux1/vis/LFN_timelapse.gif\n",
      "Making GIF for LFN_contour\n"
     ]
    },
    {
     "data": {
      "text/plain": [
       "'Frame 21'"
      ]
     },
     "metadata": {},
     "output_type": "display_data"
    },
    {
     "name": "stdout",
     "output_type": "stream",
     "text": [
      "Processing wrfout_d01_0001-01-01_00:00:00\n",
      "GIF saved at /home/mljc/wrf/out/ideal-fireflux1/vis/LFN_contour_timelapse.gif\n"
     ]
    }
   ],
   "source": [
    "make_gif(dirpath, savedirpath, \"LFN\")\n",
    "make_gif(dirpath,savedirpath, \"LFN\", expr=lambda x: np.where(x <=10, 1, 0), title=\"LFN_contour\")"
   ]
  },
  {
   "cell_type": "code",
   "execution_count": 7,
   "metadata": {
    "ExecuteTime": {
     "end_time": "2020-11-20T00:07:51.781739Z",
     "start_time": "2020-11-19T23:50:12.484243Z"
    },
    "scrolled": true
   },
   "outputs": [
    {
     "name": "stdout",
     "output_type": "stream",
     "text": [
      "Making GIF for F_INT\n"
     ]
    },
    {
     "data": {
      "text/plain": [
       "'Frame 21'"
      ]
     },
     "metadata": {},
     "output_type": "display_data"
    },
    {
     "name": "stdout",
     "output_type": "stream",
     "text": [
      "Processing wrfout_d01_0001-01-01_00:00:00\n",
      "GIF saved at /home/mljc/wrf/out/ideal-fireflux1/vis/F_INT_timelapse.gif\n",
      "Making GIF for F_LINEINT\n"
     ]
    },
    {
     "data": {
      "text/plain": [
       "'Frame 21'"
      ]
     },
     "metadata": {},
     "output_type": "display_data"
    },
    {
     "name": "stdout",
     "output_type": "stream",
     "text": [
      "Processing wrfout_d01_0001-01-01_00:00:00\n",
      "GIF saved at /home/mljc/wrf/out/ideal-fireflux1/vis/F_LINEINT_timelapse.gif\n",
      "Making GIF for HGT\n"
     ]
    },
    {
     "data": {
      "text/plain": [
       "'Frame 21'"
      ]
     },
     "metadata": {},
     "output_type": "display_data"
    },
    {
     "name": "stdout",
     "output_type": "stream",
     "text": [
      "Processing wrfout_d01_0001-01-01_00:00:00\n",
      "GIF saved at /home/mljc/wrf/out/ideal-fireflux1/vis/HGT_timelapse.gif\n",
      "Making GIF for FWH\n"
     ]
    },
    {
     "data": {
      "text/plain": [
       "'Frame 21'"
      ]
     },
     "metadata": {},
     "output_type": "display_data"
    },
    {
     "name": "stdout",
     "output_type": "stream",
     "text": [
      "Processing wrfout_d01_0001-01-01_00:00:00\n",
      "GIF saved at /home/mljc/wrf/out/ideal-fireflux1/vis/FWH_timelapse.gif\n",
      "Making GIF for FZ0\n"
     ]
    },
    {
     "data": {
      "text/plain": [
       "'Frame 21'"
      ]
     },
     "metadata": {},
     "output_type": "display_data"
    },
    {
     "name": "stdout",
     "output_type": "stream",
     "text": [
      "Processing wrfout_d01_0001-01-01_00:00:00\n",
      "GIF saved at /home/mljc/wrf/out/ideal-fireflux1/vis/FZ0_timelapse.gif\n",
      "Making GIF for FUEL_FRAC_BURNT\n"
     ]
    },
    {
     "data": {
      "text/plain": [
       "'Frame 21'"
      ]
     },
     "metadata": {},
     "output_type": "display_data"
    },
    {
     "name": "stdout",
     "output_type": "stream",
     "text": [
      "Processing wrfout_d01_0001-01-01_00:00:00\n",
      "GIF saved at /home/mljc/wrf/out/ideal-fireflux1/vis/FUEL_FRAC_BURNT_timelapse.gif\n",
      "Making GIF for FGIP\n"
     ]
    },
    {
     "data": {
      "text/plain": [
       "'Frame 21'"
      ]
     },
     "metadata": {},
     "output_type": "display_data"
    },
    {
     "name": "stdout",
     "output_type": "stream",
     "text": [
      "Processing wrfout_d01_0001-01-01_00:00:00\n",
      "GIF saved at /home/mljc/wrf/out/ideal-fireflux1/vis/FGIP_timelapse.gif\n",
      "Making GIF for FGRNHFX\n"
     ]
    },
    {
     "data": {
      "text/plain": [
       "'Frame 21'"
      ]
     },
     "metadata": {},
     "output_type": "display_data"
    },
    {
     "name": "stdout",
     "output_type": "stream",
     "text": [
      "Processing wrfout_d01_0001-01-01_00:00:00\n",
      "GIF saved at /home/mljc/wrf/out/ideal-fireflux1/vis/FGRNHFX_timelapse.gif\n",
      "Making GIF for T2\n"
     ]
    },
    {
     "data": {
      "text/plain": [
       "'Frame 21'"
      ]
     },
     "metadata": {},
     "output_type": "display_data"
    },
    {
     "name": "stdout",
     "output_type": "stream",
     "text": [
      "Processing wrfout_d01_0001-01-01_00:00:00\n",
      "GIF saved at /home/mljc/wrf/out/ideal-fireflux1/vis/T2_timelapse.gif\n",
      "Making GIF for U\n"
     ]
    },
    {
     "data": {
      "text/plain": [
       "'Frame 1'"
      ]
     },
     "metadata": {},
     "output_type": "display_data"
    },
    {
     "name": "stdout",
     "output_type": "stream",
     "text": [
      "Processing wrfout_d01_0001-01-01_00:00:00\n",
      "Skipped U\n",
      "Making GIF for V\n"
     ]
    },
    {
     "data": {
      "text/plain": [
       "'Frame 1'"
      ]
     },
     "metadata": {},
     "output_type": "display_data"
    },
    {
     "name": "stdout",
     "output_type": "stream",
     "text": [
      "Processing wrfout_d01_0001-01-01_00:00:00\n",
      "Skipped V\n",
      "Making GIF for UF\n"
     ]
    },
    {
     "data": {
      "text/plain": [
       "'Frame 21'"
      ]
     },
     "metadata": {},
     "output_type": "display_data"
    },
    {
     "name": "stdout",
     "output_type": "stream",
     "text": [
      "Processing wrfout_d01_0001-01-01_00:00:00\n",
      "GIF saved at /home/mljc/wrf/out/ideal-fireflux1/vis/UF_timelapse.gif\n",
      "Making GIF for VF\n"
     ]
    },
    {
     "data": {
      "text/plain": [
       "'Frame 21'"
      ]
     },
     "metadata": {},
     "output_type": "display_data"
    },
    {
     "name": "stdout",
     "output_type": "stream",
     "text": [
      "Processing wrfout_d01_0001-01-01_00:00:00\n",
      "GIF saved at /home/mljc/wrf/out/ideal-fireflux1/vis/VF_timelapse.gif\n",
      "ALL DONE!\n"
     ]
    },
    {
     "data": {
      "image/png": "[encoded data removed]",
      "text/plain": [
       "<Figure size 720x720 with 1 Axes>"
      ]
     },
     "metadata": {
      "needs_background": "light"
     },
     "output_type": "display_data"
    },
    {
     "data": {
      "image/png": "[encoded data removed]",
      "text/plain": [
       "<Figure size 720x720 with 1 Axes>"
      ]
     },
     "metadata": {
      "needs_background": "light"
     },
     "output_type": "display_data"
    }
   ],
   "source": [
    "for var in variables:\n",
    "    try:\n",
    "        make_gif(dirpath, savedirpath, var)\n",
    "    except:\n",
    "        print(f\"Skipped {var}\")\n",
    "\n",
    "print('ALL DONE!')"
   ]
  },
  {
   "cell_type": "code",
   "execution_count": 5,
   "metadata": {},
   "outputs": [
    {
     "data": {
      "text/plain": [
       "'C:\\\\Users\\\\giova\\\\Desktop\\\\hills\\\\FUEL_FRAC_BURNT\\\\60.jpg'"
      ]
     },
     "execution_count": 5,
     "metadata": {},
     "output_type": "execute_result"
    }
   ],
   "source": [
    "\n",
    "file = r\"C:\\Users\\giova\\Desktop\\ProjectX\\example_sim\\hills\\wrfout_d01_0001-01-01_00_00_00\" \n",
    "root = Dataset(file, \"r\", format=\"NETCDF4\")\n",
    "\n",
    "data, lon, lat = process_data(root, \"FUEL_FRAC_BURNT\")\n",
    "draw_cmap_at_time(data, lon, lat, 60, 0, \"FUEL_FRAC_BURNT\")"
   ]
  },
  {
   "cell_type": "code",
   "execution_count": null,
   "metadata": {},
   "outputs": [],
   "source": []
  }
 ],
 "metadata": {
  "celltoolbar": "Tags",
  "kernelspec": {
   "display_name": "Python 3",
   "language": "python",
   "name": "python3"
  },
  "language_info": {
   "codemirror_mode": {
    "name": "ipython",
    "version": 3
   },
   "file_extension": ".py",
   "mimetype": "text/x-python",
   "name": "python",
   "nbconvert_exporter": "python",
   "pygments_lexer": "ipython3",
   "version": "3.8.5"
  },
  "toc": {
   "base_numbering": 1,
   "nav_menu": {},
   "number_sections": true,
   "sideBar": true,
   "skip_h1_title": false,
   "title_cell": "Table of Contents",
   "title_sidebar": "Contents",
   "toc_cell": false,
   "toc_position": {},
   "toc_section_display": true,
   "toc_window_display": false
  },
  "varInspector": {
   "cols": {
    "lenName": 16,
    "lenType": 16,
    "lenVar": 40
   },
   "kernels_config": {
    "python": {
     "delete_cmd_postfix": "",
     "delete_cmd_prefix": "del ",
     "library": "var_list.py",
     "varRefreshCmd": "print(var_dic_list())"
    },
    "r": {
     "delete_cmd_postfix": ") ",
     "delete_cmd_prefix": "rm(",
     "library": "var_list.r",
     "varRefreshCmd": "cat(var_dic_list()) "
    }
   },
   "types_to_exclude": [
    "module",
    "function",
    "builtin_function_or_method",
    "instance",
    "_Feature"
   ],
   "window_display": false
  }
 },
 "nbformat": 4,
 "nbformat_minor": 4
}
